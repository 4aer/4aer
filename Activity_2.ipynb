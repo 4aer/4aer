{
  "nbformat": 4,
  "nbformat_minor": 0,
  "metadata": {
    "colab": {
      "provenance": [],
      "authorship_tag": "ABX9TyMIoPtFgca7NOd4meuKKiNo",
      "include_colab_link": true
    },
    "kernelspec": {
      "name": "ir",
      "display_name": "R"
    },
    "language_info": {
      "name": "R"
    }
  },
  "cells": [
    {
      "cell_type": "markdown",
      "metadata": {
        "id": "view-in-github",
        "colab_type": "text"
      },
      "source": [
        "<a href=\"https://colab.research.google.com/github/4aer/4aer/blob/main/Activity_2.ipynb\" target=\"_parent\"><img src=\"https://colab.research.google.com/assets/colab-badge.svg\" alt=\"Open In Colab\"/></a>"
      ]
    },
    {
      "cell_type": "code",
      "execution_count": 4,
      "metadata": {
        "id": "taxNannoImDG",
        "colab": {
          "base_uri": "https://localhost:8080/"
        },
        "outputId": "2ccca6a5-8e27-4845-b696-fede47775c46"
      },
      "outputs": [
        {
          "output_type": "stream",
          "name": "stdout",
          "text": [
            "[1] \"Scores: 85, 90, 78, 88, 92 | Average: 86.6\"\n",
            "[1] \"3x3 Matrix:\"\n",
            "     [,1] [,2] [,3]\n",
            "[1,]    1    4    7\n",
            "[2,]    2    5    8\n",
            "[3,]    3    6    9\n",
            "[1] \"First column transposed: 1, 2, 3\"\n",
            "[1] \"Class data frame:\"\n",
            "  Student Score Passed\n",
            "1    Anna    85   TRUE\n",
            "2     Ben    90   TRUE\n",
            "3   Carla    78  FALSE\n",
            "4   David    88   TRUE\n",
            "5    Ella    92   TRUE\n",
            "[1] \"Students passed: 4 out of 5 (80%)\"\n"
          ]
        }
      ],
      "source": [
        "scores <- c(85, 90, 78, 88, 92)\n",
        "print(paste(\"Scores:\", toString(scores), \"| Average:\", mean(scores)))\n",
        "\n",
        "matrix_3x3 <- matrix(1:9, nrow = 3, ncol = 3)\n",
        "print(\"3x3 Matrix:\"); print(matrix_3x3)\n",
        "print(paste(\"First column transposed:\", toString(t(matrix_3x3[, 1]))))\n",
        "\n",
        "class_data <- data.frame(\n",
        "  Student = c(\"Anna\", \"Ben\", \"Carla\", \"David\", \"Ella\"),\n",
        "  Score = scores,\n",
        "  Passed = scores >= 80\n",
        ")\n",
        "print(\"Class data frame:\"); print(class_data)\n",
        "\n",
        "# Summary\n",
        "print(paste(\"Students passed:\", sum(class_data$Passed), \"out of\", nrow(class_data),\n",
        "           paste0(\"(\", round(mean(class_data$Passed) * 100, 1), \"%)\")))"
      ]
    }
  ]
}